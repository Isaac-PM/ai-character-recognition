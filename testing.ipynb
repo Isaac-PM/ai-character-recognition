{
  "nbformat": 4,
  "nbformat_minor": 0,
  "metadata": {
    "colab": {
      "provenance": [],
      "authorship_tag": "ABX9TyPw9gqfUYxEXTOOQrtirJAD",
      "include_colab_link": true
    },
    "kernelspec": {
      "name": "python3",
      "display_name": "Python 3"
    },
    "language_info": {
      "name": "python"
    }
  },
  "cells": [
    {
      "cell_type": "markdown",
      "metadata": {
        "id": "view-in-github",
        "colab_type": "text"
      },
      "source": [
        "<a href=\"https://colab.research.google.com/github/Isaac-PM/ai-character-recognition/blob/main/testing.ipynb\" target=\"_parent\"><img src=\"https://colab.research.google.com/assets/colab-badge.svg\" alt=\"Open In Colab\"/></a>"
      ]
    },
    {
      "cell_type": "markdown",
      "source": [
        "# Reconocimiento de dígitos (números)\n",
        "\n",
        "## Generalidades\n",
        "\n",
        "- Se usan imágenes de 28x28 píxeles, siendo en total 784 píxeles.\n",
        "- Cada píxel tiene un valor que se encuentra en un rango de 0 a 255, siendo **0 completamente negro** y **255 completamente blanco**.\n",
        "- Red neuronal<sup>1</sup> de dos capas<sup>2</sup>, sin contar a la capa de entrada como una.\n",
        "- El conjunto de datos a utilizar es **MNIST database**.\n",
        "\n",
        "***\n",
        "\n",
        "## Matriz inicial\n",
        "\n",
        "\\begin{align}\n",
        "    &m = \\text{número de imágenes} \\\\\n",
        "    &x = \\begin{bmatrix}\n",
        " x_{1\\,1}&  x_{1\\,2}&  x_{1\\,...}& x_{1\\,784}\\\\ \n",
        " x_{2\\,1}&  x_{2\\,2}&  x_{2\\,...}& x_{2\\,784}\\\\ \n",
        " x_{m-1\\,1}&  x_{m-1\\,2}&  x_{m-1\\,...}& x_{m-1\\,784}\\\\ \n",
        " x_{m\\,1}&  x_{m\\,2}&  x_{m\\,...}& x_{m\\,784}\n",
        "\\end{bmatrix}\n",
        "\\end{align}\n",
        "\n",
        "Se trabaja con la matriz transpuesta de $x$ ($x^{t}$), por lo que hay $m$ columnas con 784 filas.\n",
        "\n",
        "## Propagación hacia adelante (forward propagation)\n",
        "\n",
        "\\begin{align}\n",
        "    &A^{[0]} = \\text{input layer} \\\\\n",
        "    &Z^{[1]} = \\text{hidden layer(unnactivated)}\n",
        "\\end{align}\n",
        "\n",
        "Con la finalidad de obtener $Z^{[1]}$, se deberá aplicar un peso (weight, $w^{[1]}$) y un sesgo (bias, $b^{[1]}$), de manera que:\n",
        "\n",
        "\\begin{align}\n",
        "    &Z^{[1]} = w^{[1]}\\cdot A^{[0]} \\ + \\ b^{[1]}\n",
        "\\end{align}\n",
        "\n",
        "Posteriormente, se aplica una \"función de activación\", en este caso **ReLU**<sup>3</sup>.\n",
        "\n",
        "\n",
        "\n",
        "\n",
        "\n",
        "\n",
        "\n",
        "***\n",
        "\n",
        "## Conceptos\n",
        "### Red neuronal<sup>1</sup>\n",
        "\n",
        "Se trata de un campo de estudio de la informática, que trata de \"reflejar\" el comportamiento del cerebro humano en el reconocimiento de patrones.<sup>[A]</sup>\n",
        "\n",
        "Una red se ve compuesta por:<sup>[A]</sup> \n",
        "\n",
        "- Capa de entrada (_input layer_).\n",
        "- Capas ocultas (_deep neural network_ ó _hidden layers_).\n",
        "- Capa de sálida (_output layer_).\n",
        "\n",
        "#### Funcionamiento\n",
        "\n",
        "- Cada nodo se conecta a otro, con un peso asociado.\n",
        "- Si la salida de un nodo se encuentra por encima de un umbral (_threshold_), se activa, mandando sus datos a la siguiente capa de la red.\n",
        "\n",
        "<center><img   src=\"https://i.imgur.com/kP4Dma1.jpg\"   width=\"\"   height=\"\"   /></center>\n",
        "\n",
        "_Elaboración propia._<sup>[B]</sup>\n",
        "\n",
        "### Capas<sup>2</sup>\n",
        "\n",
        "Las capas son el metacomponente principal de las redes neuronales. En cuanto a la **red oculta**, esta realiza distintas funciones que se encargan de la transformación (análisis) de los datos.<sup>[C]</sup>\n",
        "\n",
        "### Función ReLU<sup>3</sup>\n",
        "\n",
        "\n",
        "\n",
        "## Referencias\n",
        "\n",
        "- <sup>[A]</sup> What are Neural Networks? (2021, August 03). Retrieved from https://www.ibm.com/cloud/learn/neural-networks\n",
        "- <sup>[B]</sup> ELEMENTOS BÁSICOS DE UNA RED NEURONAL ARTIFICIAL. (2007, October 01). Retrieved from https://advancedtech.wordpress.com/2007/08/31/elementos-basicos-de-una-red-neuronal-artificial\n",
        "- <sup>[C]</sup> Singh, H. (2021). Neural Network | Introduction to Neural Network | Neural Network for DL. Analytics Vidhya. Retrieved from https://www.analyticsvidhya.com/blog/2021/03/basics-of-neural-network\n",
        "\n",
        "\n",
        "***\n",
        "\n",
        "Notas (ignorar)\n",
        "\n",
        "\n"
      ],
      "metadata": {
        "id": "D1d6TiHBvpos"
      }
    }
  ]
}